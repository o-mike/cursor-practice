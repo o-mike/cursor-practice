{
 "cells": [
  {
   "cell_type": "code",
   "execution_count": 4,
   "metadata": {},
   "outputs": [],
   "source": [
    "%reload_ext rpy2.ipython\n"
   ]
  },
  {
   "cell_type": "code",
   "execution_count": 19,
   "metadata": {},
   "outputs": [
    {
     "name": "stderr",
     "output_type": "stream",
     "text": [
      "UsageError: Line magic function `%%R` not found.\n"
     ]
    }
   ],
   "source": [
    "import pandas as pd\n",
    "from rpy2.robjects import pandas2ri\n",
    "import rpy2.robjects as ro\n",
    "\n",
    "pandas2ri.activate()\n",
    "\n",
    "df = pd.DataFrame({\n",
    "    'A': [1, 2, 3],\n",
    "    'B': [4, 5, 6],\n",
    "    'C': [7, 8, 9],\n",
    "})\n",
    "\n",
    "# Convert the pandas DataFrame to an R data.frame\n",
    "r_df = pandas2ri.py2rpy(df)\n",
    "\n",
    "# Assign the R data.frame to a variable in the R environment\n",
    "ro.r.assign('r_df', r_df)"
   ]
  },
  {
   "cell_type": "code",
   "execution_count": 20,
   "metadata": {},
   "outputs": [
    {
     "ename": "NotImplementedError",
     "evalue": "Conversion 'py2rpy' not defined for objects of type '<class 'numpy.ndarray'>'",
     "output_type": "error",
     "traceback": [
      "\u001b[0;31m---------------------------------------------------------------------------\u001b[0m",
      "\u001b[0;31mNotImplementedError\u001b[0m                       Traceback (most recent call last)",
      "\u001b[1;32m/home/pope/dev/cursor-practice/test.ipynb Cell 3\u001b[0m in \u001b[0;36m1\n\u001b[0;32m----> <a href='vscode-notebook-cell://wsl%2Bubuntu/home/pope/dev/cursor-practice/test.ipynb#W2sdnNjb2RlLXJlbW90ZQ%3D%3D?line=0'>1</a>\u001b[0m get_ipython()\u001b[39m.\u001b[39;49mrun_cell_magic(\u001b[39m'\u001b[39;49m\u001b[39mR\u001b[39;49m\u001b[39m'\u001b[39;49m, \u001b[39m'\u001b[39;49m\u001b[39m-i df\u001b[39;49m\u001b[39m'\u001b[39;49m, \u001b[39m'\u001b[39;49m\u001b[39mprint(df)\u001b[39;49m\u001b[39m\\n\u001b[39;49;00m\u001b[39m'\u001b[39;49m)\n",
      "File \u001b[0;32m~/.pyenv/versions/3.10.4/lib/python3.10/site-packages/IPython/core/interactiveshell.py:2362\u001b[0m, in \u001b[0;36mInteractiveShell.run_cell_magic\u001b[0;34m(self, magic_name, line, cell)\u001b[0m\n\u001b[1;32m   2360\u001b[0m \u001b[39mwith\u001b[39;00m \u001b[39mself\u001b[39m\u001b[39m.\u001b[39mbuiltin_trap:\n\u001b[1;32m   2361\u001b[0m     args \u001b[39m=\u001b[39m (magic_arg_s, cell)\n\u001b[0;32m-> 2362\u001b[0m     result \u001b[39m=\u001b[39m fn(\u001b[39m*\u001b[39;49margs, \u001b[39m*\u001b[39;49m\u001b[39m*\u001b[39;49mkwargs)\n\u001b[1;32m   2363\u001b[0m \u001b[39mreturn\u001b[39;00m result\n",
      "File \u001b[0;32m~/.pyenv/versions/3.10.4/lib/python3.10/site-packages/rpy2/ipython/rmagic.py:916\u001b[0m, in \u001b[0;36mRMagics.R\u001b[0;34m(self, line, cell, local_ns)\u001b[0m\n\u001b[1;32m    914\u001b[0m     \u001b[39mwith\u001b[39;00m localconverter(converter) \u001b[39mas\u001b[39;00m cv:\n\u001b[1;32m    915\u001b[0m         \u001b[39mfor\u001b[39;00m arg \u001b[39min\u001b[39;00m \u001b[39m'\u001b[39m\u001b[39m,\u001b[39m\u001b[39m'\u001b[39m\u001b[39m.\u001b[39mjoin(args\u001b[39m.\u001b[39minput)\u001b[39m.\u001b[39msplit(\u001b[39m'\u001b[39m\u001b[39m,\u001b[39m\u001b[39m'\u001b[39m):\n\u001b[0;32m--> 916\u001b[0m             \u001b[39mself\u001b[39;49m\u001b[39m.\u001b[39;49m_import_name_into_r(arg, ro\u001b[39m.\u001b[39;49mglobalenv, local_ns)\n\u001b[1;32m    918\u001b[0m \u001b[39mif\u001b[39;00m args\u001b[39m.\u001b[39mdisplay:\n\u001b[1;32m    919\u001b[0m     \u001b[39mtry\u001b[39;00m:\n",
      "File \u001b[0;32m~/.pyenv/versions/3.10.4/lib/python3.10/site-packages/rpy2/ipython/rmagic.py:444\u001b[0m, in \u001b[0;36mRMagics._import_name_into_r\u001b[0;34m(self, arg, env, local_ns)\u001b[0m\n\u001b[1;32m    442\u001b[0m         val \u001b[39m=\u001b[39m _find(rhs, \u001b[39mself\u001b[39m\u001b[39m.\u001b[39mshell\u001b[39m.\u001b[39muser_ns)\n\u001b[1;32m    443\u001b[0m \u001b[39mif\u001b[39;00m val \u001b[39mis\u001b[39;00m \u001b[39mnot\u001b[39;00m \u001b[39mNone\u001b[39;00m:\n\u001b[0;32m--> 444\u001b[0m     env[lhs] \u001b[39m=\u001b[39m val\n",
      "File \u001b[0;32m~/.pyenv/versions/3.10.4/lib/python3.10/site-packages/rpy2/robjects/environments.py:35\u001b[0m, in \u001b[0;36mEnvironment.__setitem__\u001b[0;34m(self, item, value)\u001b[0m\n\u001b[1;32m     34\u001b[0m \u001b[39mdef\u001b[39;00m \u001b[39m__setitem__\u001b[39m(\u001b[39mself\u001b[39m, item: \u001b[39mstr\u001b[39m, value: typing\u001b[39m.\u001b[39mAny) \u001b[39m-\u001b[39m\u001b[39m>\u001b[39m \u001b[39mNone\u001b[39;00m:\n\u001b[0;32m---> 35\u001b[0m     robj \u001b[39m=\u001b[39m conversion\u001b[39m.\u001b[39;49mget_conversion()\u001b[39m.\u001b[39;49mpy2rpy(value)\n\u001b[1;32m     36\u001b[0m     \u001b[39msuper\u001b[39m(Environment, \u001b[39mself\u001b[39m)\u001b[39m.\u001b[39m\u001b[39m__setitem__\u001b[39m(item, robj)\n",
      "File \u001b[0;32m~/.pyenv/versions/3.10.4/lib/python3.10/functools.py:889\u001b[0m, in \u001b[0;36msingledispatch.<locals>.wrapper\u001b[0;34m(*args, **kw)\u001b[0m\n\u001b[1;32m    885\u001b[0m \u001b[39mif\u001b[39;00m \u001b[39mnot\u001b[39;00m args:\n\u001b[1;32m    886\u001b[0m     \u001b[39mraise\u001b[39;00m \u001b[39mTypeError\u001b[39;00m(\u001b[39mf\u001b[39m\u001b[39m'\u001b[39m\u001b[39m{\u001b[39;00mfuncname\u001b[39m}\u001b[39;00m\u001b[39m requires at least \u001b[39m\u001b[39m'\u001b[39m\n\u001b[1;32m    887\u001b[0m                     \u001b[39m'\u001b[39m\u001b[39m1 positional argument\u001b[39m\u001b[39m'\u001b[39m)\n\u001b[0;32m--> 889\u001b[0m \u001b[39mreturn\u001b[39;00m dispatch(args[\u001b[39m0\u001b[39;49m]\u001b[39m.\u001b[39;49m\u001b[39m__class__\u001b[39;49m)(\u001b[39m*\u001b[39;49margs, \u001b[39m*\u001b[39;49m\u001b[39m*\u001b[39;49mkw)\n",
      "File \u001b[0;32m~/.pyenv/versions/3.10.4/lib/python3.10/site-packages/rpy2/robjects/numpy2ri.py:135\u001b[0m, in \u001b[0;36mnonnumpy2rpy\u001b[0;34m(obj)\u001b[0m\n\u001b[1;32m    133\u001b[0m \u001b[39mif\u001b[39;00m \u001b[39mnot\u001b[39;00m \u001b[39misinstance\u001b[39m(obj, numpy\u001b[39m.\u001b[39mndarray) \u001b[39mand\u001b[39;00m \u001b[39mhasattr\u001b[39m(obj, \u001b[39m'\u001b[39m\u001b[39m__array__\u001b[39m\u001b[39m'\u001b[39m):\n\u001b[1;32m    134\u001b[0m     obj \u001b[39m=\u001b[39m obj\u001b[39m.\u001b[39m__array__()\n\u001b[0;32m--> 135\u001b[0m     \u001b[39mreturn\u001b[39;00m ro\u001b[39m.\u001b[39;49mdefault_converter\u001b[39m.\u001b[39;49mpy2rpy(obj)\n\u001b[1;32m    136\u001b[0m \u001b[39melif\u001b[39;00m original_converter \u001b[39mis\u001b[39;00m \u001b[39mNone\u001b[39;00m:\n\u001b[1;32m    137\u001b[0m     \u001b[39m# This means that the conversion module was not \"activated\".\u001b[39;00m\n\u001b[1;32m    138\u001b[0m     \u001b[39m# For now, go with the default_converter.\u001b[39;00m\n\u001b[1;32m    139\u001b[0m     \u001b[39m# TODO: the conversion system needs an overhaul badly.\u001b[39;00m\n\u001b[1;32m    140\u001b[0m     \u001b[39mreturn\u001b[39;00m ro\u001b[39m.\u001b[39mdefault_converter\u001b[39m.\u001b[39mpy2rpy(obj)\n",
      "File \u001b[0;32m~/.pyenv/versions/3.10.4/lib/python3.10/functools.py:889\u001b[0m, in \u001b[0;36msingledispatch.<locals>.wrapper\u001b[0;34m(*args, **kw)\u001b[0m\n\u001b[1;32m    885\u001b[0m \u001b[39mif\u001b[39;00m \u001b[39mnot\u001b[39;00m args:\n\u001b[1;32m    886\u001b[0m     \u001b[39mraise\u001b[39;00m \u001b[39mTypeError\u001b[39;00m(\u001b[39mf\u001b[39m\u001b[39m'\u001b[39m\u001b[39m{\u001b[39;00mfuncname\u001b[39m}\u001b[39;00m\u001b[39m requires at least \u001b[39m\u001b[39m'\u001b[39m\n\u001b[1;32m    887\u001b[0m                     \u001b[39m'\u001b[39m\u001b[39m1 positional argument\u001b[39m\u001b[39m'\u001b[39m)\n\u001b[0;32m--> 889\u001b[0m \u001b[39mreturn\u001b[39;00m dispatch(args[\u001b[39m0\u001b[39;49m]\u001b[39m.\u001b[39;49m\u001b[39m__class__\u001b[39;49m)(\u001b[39m*\u001b[39;49margs, \u001b[39m*\u001b[39;49m\u001b[39m*\u001b[39;49mkw)\n",
      "File \u001b[0;32m~/.pyenv/versions/3.10.4/lib/python3.10/site-packages/rpy2/robjects/conversion.py:240\u001b[0m, in \u001b[0;36m_py2rpy\u001b[0;34m(obj)\u001b[0m\n\u001b[1;32m    238\u001b[0m \u001b[39mif\u001b[39;00m \u001b[39misinstance\u001b[39m(obj, _rinterface_capi\u001b[39m.\u001b[39mSupportsSEXP):\n\u001b[1;32m    239\u001b[0m     \u001b[39mreturn\u001b[39;00m obj\n\u001b[0;32m--> 240\u001b[0m \u001b[39mraise\u001b[39;00m \u001b[39mNotImplementedError\u001b[39;00m(\n\u001b[1;32m    241\u001b[0m     \u001b[39m\"\u001b[39m\u001b[39mConversion \u001b[39m\u001b[39m'\u001b[39m\u001b[39mpy2rpy\u001b[39m\u001b[39m'\u001b[39m\u001b[39m not defined for objects of type \u001b[39m\u001b[39m'\u001b[39m\u001b[39m%s\u001b[39;00m\u001b[39m'\u001b[39m\u001b[39m\"\u001b[39m \u001b[39m%\u001b[39m\n\u001b[1;32m    242\u001b[0m     \u001b[39mstr\u001b[39m(\u001b[39mtype\u001b[39m(obj))\n\u001b[1;32m    243\u001b[0m )\n",
      "\u001b[0;31mNotImplementedError\u001b[0m: Conversion 'py2rpy' not defined for objects of type '<class 'numpy.ndarray'>'"
     ]
    }
   ],
   "source": [
    "%%R -i df\n",
    "print(df)"
   ]
  }
 ],
 "metadata": {
  "kernelspec": {
   "display_name": "Python 3",
   "language": "python",
   "name": "python3"
  },
  "language_info": {
   "codemirror_mode": {
    "name": "ipython",
    "version": 3
   },
   "file_extension": ".py",
   "mimetype": "text/x-python",
   "name": "python",
   "nbconvert_exporter": "python",
   "pygments_lexer": "ipython3",
   "version": "3.10.4"
  },
  "orig_nbformat": 4
 },
 "nbformat": 4,
 "nbformat_minor": 2
}
